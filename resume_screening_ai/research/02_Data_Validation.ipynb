{
 "cells": [
  {
   "cell_type": "code",
   "execution_count": 16,
   "id": "153dd8aa",
   "metadata": {},
   "outputs": [],
   "source": [
    "import os\n",
    "import sys"
   ]
  },
  {
   "cell_type": "code",
   "execution_count": 17,
   "id": "f8d95a88",
   "metadata": {},
   "outputs": [
    {
     "data": {
      "text/plain": [
       "'e:\\\\Resume_Screening\\\\resume_screening_ai'"
      ]
     },
     "execution_count": 17,
     "metadata": {},
     "output_type": "execute_result"
    }
   ],
   "source": [
    "%pwd"
   ]
  },
  {
   "cell_type": "code",
   "execution_count": 18,
   "id": "b1f2ea9f",
   "metadata": {},
   "outputs": [],
   "source": [
    "os.chdir('e:\\\\Resume_Screening\\\\resume_screening_ai')"
   ]
  },
  {
   "cell_type": "code",
   "execution_count": 19,
   "id": "9668cf92",
   "metadata": {},
   "outputs": [
    {
     "data": {
      "text/plain": [
       "'e:\\\\Resume_Screening\\\\resume_screening_ai'"
      ]
     },
     "execution_count": 19,
     "metadata": {},
     "output_type": "execute_result"
    }
   ],
   "source": [
    "%pwd"
   ]
  },
  {
   "cell_type": "code",
   "execution_count": 20,
   "id": "b9e4d110",
   "metadata": {},
   "outputs": [],
   "source": [
    "from dataclasses import dataclass\n",
    "from pathlib import Path\n",
    "@dataclass(frozen=True)\n",
    "class DataValidationConfig:\n",
    "    root_dir : Path\n",
    "    unzip_data_dir : Path\n",
    "    status_file : Path\n",
    "    all_schema : dict "
   ]
  },
  {
   "cell_type": "code",
   "execution_count": 21,
   "id": "a0ecc2e9",
   "metadata": {},
   "outputs": [],
   "source": [
    "from src.Resume_Screening.constants import *\n",
    "from src.Resume_Screening.utils.common import read_yaml, get_size, create_directory"
   ]
  },
  {
   "cell_type": "code",
   "execution_count": 22,
   "id": "ec6807f3",
   "metadata": {},
   "outputs": [],
   "source": [
    "class Configuration:\n",
    "    def __init__(self, \n",
    "                 config_filepath=CONFIG_FILE_PATH,\n",
    "                 schema_filepath=SCHEMA_FILE_PATH,\n",
    "                 params_filepath=PARAMS_FILE_PATH):\n",
    "        \n",
    "        self.config = read_yaml(config_filepath)\n",
    "        self.schema = read_yaml(schema_filepath)\n",
    "        self.params = read_yaml(params_filepath)\n",
    "        \n",
    "        # Create the root directory for artifacts\n",
    "        create_directory([self.config.artifacts_root])\n",
    "\n",
    "    def get_data_validation_config(self) -> DataValidationConfig:\n",
    "        config = self.config.data_validation\n",
    "        schema = self.schema.COLUMNS\n",
    "        create_directory([config.root_dir])\n",
    "\n",
    "        data_validation_config = DataValidationConfig(\n",
    "            root_dir=config.root_dir,\n",
    "            unzip_data_dir=config.unzip_data_dir ,\n",
    "            status_file = config.status_file,\n",
    "            all_schema = schema\n",
    "        )\n",
    "\n",
    "        return data_validation_config\n",
    "\n",
    "     "
   ]
  },
  {
   "cell_type": "code",
   "execution_count": 23,
   "id": "c3c7418a",
   "metadata": {},
   "outputs": [],
   "source": [
    "from src.Resume_Screening import logger\n",
    "import pandas as pd"
   ]
  },
  {
   "cell_type": "code",
   "execution_count": 24,
   "id": "15258d89",
   "metadata": {},
   "outputs": [],
   "source": [
    "class Data_Validation :\n",
    "    def __init__(self, config : DataValidationConfig):\n",
    "        self.config = config \n",
    "        \n",
    "    def validate_columns(self) -> bool:\n",
    "        validation_status = None\n",
    "        data = pd.read_csv(self.config.unzip_data_dir)\n",
    "        all_cols = list(data.columns)\n",
    "        all_schema = self.config.all_schema.keys()\n",
    "        for col in all_cols:\n",
    "            if col not in all_schema:\n",
    "                validation_status = False \n",
    "                print(f\"{col} is not present {validation_status}\")\n",
    "                  \n",
    "            else:\n",
    "                validation_status = True\n",
    "        \n",
    "        with open(self.config.status_file, 'w') as f:\n",
    "                    f.write(f\"Validation Status : {validation_status}\")\n",
    "        \n",
    "        return validation_status"
   ]
  },
  {
   "cell_type": "code",
   "execution_count": 26,
   "id": "30e113d4",
   "metadata": {},
   "outputs": [
    {
     "name": "stdout",
     "output_type": "stream",
     "text": [
      "[2025-06-01 19:53:52,749] - INFO : common  : yaml file : config\\config.yaml loaded successfully\n",
      "[2025-06-01 19:53:52,753] - INFO : common  : yaml file : schema.yaml loaded successfully\n",
      "[2025-06-01 19:53:52,756] - INFO : common  : yaml file : params.yaml loaded successfully\n",
      "[2025-06-01 19:53:52,758] - INFO : common  : directory created at artifacts\n",
      "[2025-06-01 19:53:52,760] - INFO : common  : directory created at artifacts/data_ingestion\n"
     ]
    }
   ],
   "source": [
    "try:\n",
    "    config = Configuration()\n",
    "    data_validation_config = config.get_data_validation_config()\n",
    "    data_validation = Data_Validation(config = data_validation_config)\n",
    "    data_validation.validate_columns()\n",
    "except Exception as e:\n",
    "    raise e"
   ]
  },
  {
   "cell_type": "code",
   "execution_count": null,
   "id": "b5881fbb",
   "metadata": {},
   "outputs": [
    {
     "ename": "ImportError",
     "evalue": "cannot import name 'ValueError' from 'box.exceptions' (e:\\Resume_Screening\\resume_screening_ai\\.venv\\Lib\\site-packages\\box\\exceptions.py)",
     "output_type": "error",
     "traceback": [
      "\u001b[31m---------------------------------------------------------------------------\u001b[39m",
      "\u001b[31mImportError\u001b[39m                               Traceback (most recent call last)",
      "\u001b[36mCell\u001b[39m\u001b[36m \u001b[39m\u001b[32mIn[14]\u001b[39m\u001b[32m, line 1\u001b[39m\n\u001b[32m----> \u001b[39m\u001b[32m1\u001b[39m \u001b[38;5;28;01mfrom\u001b[39;00m\u001b[38;5;250m \u001b[39m\u001b[34;01mbox\u001b[39;00m\u001b[34;01m.\u001b[39;00m\u001b[34;01mexceptions\u001b[39;00m\u001b[38;5;250m \u001b[39m\u001b[38;5;28;01mimport\u001b[39;00m \u001b[38;5;167;01mValueError\u001b[39;00m\n",
      "\u001b[31mImportError\u001b[39m: cannot import name 'ValueError' from 'box.exceptions' (e:\\Resume_Screening\\resume_screening_ai\\.venv\\Lib\\site-packages\\box\\exceptions.py)"
     ]
    }
   ],
   "source": [
    "from box.exceptions import ValueError"
   ]
  },
  {
   "cell_type": "code",
   "execution_count": null,
   "id": "08d043e1",
   "metadata": {},
   "outputs": [],
   "source": []
  },
  {
   "cell_type": "code",
   "execution_count": null,
   "id": "91aebf4d",
   "metadata": {},
   "outputs": [],
   "source": []
  }
 ],
 "metadata": {
  "kernelspec": {
   "display_name": ".venv",
   "language": "python",
   "name": "python3"
  },
  "language_info": {
   "codemirror_mode": {
    "name": "ipython",
    "version": 3
   },
   "file_extension": ".py",
   "mimetype": "text/x-python",
   "name": "python",
   "nbconvert_exporter": "python",
   "pygments_lexer": "ipython3",
   "version": "3.11.5"
  }
 },
 "nbformat": 4,
 "nbformat_minor": 5
}
